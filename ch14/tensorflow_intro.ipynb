{
 "cells": [
  {
   "cell_type": "code",
   "execution_count": 1,
   "metadata": {
    "jupyter": {
     "source_hidden": true
    }
   },
   "outputs": [],
   "source": [
    "import tensorflow as tf\n",
    "import numpy as np\n",
    "import pandas as pd\n",
    "import matplotlib.pyplot as plt\n",
    "\n",
    "import warnings\n",
    "import os\n",
    "# os.environ['AUTOGRAPH_VERBOSITY'] = '1'"
   ]
  },
  {
   "cell_type": "markdown",
   "metadata": {},
   "source": [
    "## TensorFlowのメカニズム"
   ]
  },
  {
   "cell_type": "markdown",
   "metadata": {},
   "source": [
    "#### 1.TensorFlowの主な特徴\n",
    "#### 2.TensorFlowの計算グラフ\n",
    "#### 3.TensorFlowのVariableオブジェクト\n",
    "#### 4.自動微分とGradientTapeによる勾配の計算\n",
    "#### 5.Keras APIを使って一般的なアーキテクチャの実装を単純化する\n",
    "#### 6.TensorFlow Estimator"
   ]
  },
  {
   "cell_type": "code",
   "execution_count": 2,
   "metadata": {
    "collapsed": true,
    "jupyter": {
     "outputs_hidden": true,
     "source_hidden": true
    }
   },
   "outputs": [
    {
     "name": "stdout",
     "output_type": "stream",
     "text": [
      "[-0.722795904 1.01456821 0.251808226]\n"
     ]
    }
   ],
   "source": [
    "tf.random.set_seed(1)\n",
    "init = tf.keras.initializers.GlorotNormal()\n",
    "\n",
    "tf.print(init(shape=(3,)))# GlorotNormalクラスのオブジェクトとしてinitという演算子を作成"
   ]
  },
  {
   "cell_type": "code",
   "execution_count": 3,
   "metadata": {
    "collapsed": true,
    "jupyter": {
     "outputs_hidden": true,
     "source_hidden": true
    }
   },
   "outputs": [
    {
     "name": "stdout",
     "output_type": "stream",
     "text": [
      "[[0.28982234 -0.782292783 -0.0453658961]\n",
      " [0.960991383 -0.120003454 0.708528221]]\n"
     ]
    }
   ],
   "source": [
    "v = tf.Variable(init(shape=(2, 3)))\n",
    "tf.print(v)"
   ]
  },
  {
   "cell_type": "code",
   "execution_count": 4,
   "metadata": {
    "collapsed": true,
    "jupyter": {
     "outputs_hidden": true,
     "source_hidden": true
    }
   },
   "outputs": [
    {
     "name": "stdout",
     "output_type": "stream",
     "text": [
      "All module variables:  [TensorShape([2, 3]), TensorShape([1, 2])]\n",
      "Trainable variable:    [TensorShape([2, 3])]\n"
     ]
    }
   ],
   "source": [
    "class MyModule(tf.Module):\n",
    "    def __init__(self):\n",
    "        init = tf.keras.initializers.GlorotNormal()\n",
    "        self.w1 = tf.Variable(init(shape=(2, 3)), trainable=True)\n",
    "        self.w2 = tf.Variable(init(shape=(1, 2)), trainable=False)\n",
    "                \n",
    "m = MyModule()\n",
    "print('All module variables: ', [v.shape for v in m.variables])\n",
    "print('Trainable variable:   ', [v.shape for v in\n",
    "                                 m.trainable_variables])"
   ]
  },
  {
   "cell_type": "code",
   "execution_count": 5,
   "metadata": {
    "collapsed": true,
    "jupyter": {
     "outputs_hidden": true,
     "source_hidden": true
    }
   },
   "outputs": [
    {
     "name": "stdout",
     "output_type": "stream",
     "text": [
      "[[3.8610158]\n",
      " [2.94593048]\n",
      " [3.82629013]]\n"
     ]
    }
   ],
   "source": [
    "tf.random.set_seed(1)\n",
    "w = tf.Variable(tf.random.uniform((3, 3)))\n",
    "\n",
    "@tf.autograph.experimental.do_not_convert\n",
    "def compute_z(x):    \n",
    "    return tf.matmul(w, x)\n",
    "\n",
    "x = tf.constant([[1], [2], [3]], dtype=tf.float32)\n",
    "tf.print(compute_z(x))"
   ]
  },
  {
   "cell_type": "markdown",
   "metadata": {},
   "source": [
    "### 14.4 自動微分とGradientTapeによる勾配の計算"
   ]
  },
  {
   "cell_type": "markdown",
   "metadata": {},
   "source": [
    "##### 勾配を知る -> モデルの診断\n",
    "##### 入れ子の関数の勾配を計算するための連鎖律の実装\n",
    "##### １つの勾配計算のリソースしか保持しない（複数の勾配を計算したい場合は、引数を指定）"
   ]
  },
  {
   "cell_type": "code",
   "execution_count": 2,
   "metadata": {},
   "outputs": [
    {
     "name": "stdout",
     "output_type": "stream",
     "text": [
      "True True\n",
      "dL/dw :  -9.55999947\n"
     ]
    }
   ],
   "source": [
    "w = tf.Variable(1.0)  # モデルパラメータ w と ｂ を変数として定義\n",
    "b = tf.Variable(0.5)\n",
    "print(w.trainable, b.trainable)  # 訓練可能な変数であることを確認\n",
    "\n",
    "x = tf.convert_to_tensor([1.4, 3])\n",
    "y = tf.convert_to_tensor([2.1, 5])\n",
    "\n",
    "with tf.GradientTape() as tape:\n",
    "    z = tf.add(tf.multiply(w, x), b)  # wx + b\n",
    "    loss = tf.reduce_sum(tf.square(y - z))  # 損失項 (二乗誤差)\n",
    "\n",
    "dloss_dw = tape.gradient(loss, w)  # d Loss/dw\n",
    "\n",
    "tf.print('dL/dw : ', dloss_dw)"
   ]
  },
  {
   "cell_type": "code",
   "execution_count": null,
   "metadata": {},
   "outputs": [],
   "source": [
    "w"
   ]
  },
  {
   "cell_type": "code",
   "execution_count": 3,
   "metadata": {},
   "outputs": [
    {
     "data": {
      "text/plain": [
       "<tf.Tensor: id=53, shape=(2,), dtype=float32, numpy=array([1.9, 3.5], dtype=float32)>"
      ]
     },
     "execution_count": 3,
     "metadata": {},
     "output_type": "execute_result"
    }
   ],
   "source": [
    "tf.add(tf.multiply(w, x), b)  # z = wx + b"
   ]
  },
  {
   "cell_type": "code",
   "execution_count": 4,
   "metadata": {},
   "outputs": [
    {
     "data": {
      "text/plain": [
       "<tf.Tensor: id=57, shape=(), dtype=float32, numpy=2.29>"
      ]
     },
     "execution_count": 4,
     "metadata": {},
     "output_type": "execute_result"
    }
   ],
   "source": [
    "tf.reduce_sum(tf.square(y-z))  # loss"
   ]
  },
  {
   "cell_type": "code",
   "execution_count": 5,
   "metadata": {},
   "outputs": [
    {
     "name": "stdout",
     "output_type": "stream",
     "text": [
      "[-0.559999764 -9]\n"
     ]
    }
   ],
   "source": [
    "# verifying the computed gradient\n",
    "\n",
    "tf.print(2*x * ((w*x + b) - y))"
   ]
  },
  {
   "cell_type": "markdown",
   "metadata": {},
   "source": [
    "##### 訓練可能ではない変数について勾配を計算する"
   ]
  },
  {
   "cell_type": "code",
   "execution_count": 6,
   "metadata": {},
   "outputs": [
    {
     "name": "stdout",
     "output_type": "stream",
     "text": [
      "dL/dx: [-0.399999857 -3]\n"
     ]
    }
   ],
   "source": [
    "with tf.GradientTape() as tape:\n",
    "    tape.watch(x)  # x:Tensorオブジェクト\n",
    "    z = tf.add(tf.multiply(w, x), b)\n",
    "    loss = tf.reduce_sum(tf.square(y - z))\n",
    "\n",
    "dloss_dx = tape.gradient(loss, x)\n",
    "\n",
    "tf.print('dL/dx:', dloss_dx)\n"
   ]
  },
  {
   "cell_type": "code",
   "execution_count": 7,
   "metadata": {},
   "outputs": [
    {
     "ename": "RuntimeError",
     "evalue": "GradientTape.gradient can only be called once on non-persistent tapes.",
     "output_type": "error",
     "traceback": [
      "\u001b[0;31m---------------------------------------------------------------------------\u001b[0m",
      "\u001b[0;31mRuntimeError\u001b[0m                              Traceback (most recent call last)",
      "\u001b[0;32m<ipython-input-7-d500c8f8ddeb>\u001b[0m in \u001b[0;36m<module>\u001b[0;34m\u001b[0m\n\u001b[0;32m----> 1\u001b[0;31m \u001b[0mdloss_db\u001b[0m \u001b[0;34m=\u001b[0m \u001b[0mtape\u001b[0m\u001b[0;34m.\u001b[0m\u001b[0mgradient\u001b[0m\u001b[0;34m(\u001b[0m\u001b[0mloss\u001b[0m\u001b[0;34m,\u001b[0m \u001b[0mb\u001b[0m\u001b[0;34m)\u001b[0m\u001b[0;34m\u001b[0m\u001b[0;34m\u001b[0m\u001b[0m\n\u001b[0m",
      "\u001b[0;32m/opt/anaconda3/lib/python3.7/site-packages/tensorflow_core/python/eager/backprop.py\u001b[0m in \u001b[0;36mgradient\u001b[0;34m(self, target, sources, output_gradients, unconnected_gradients)\u001b[0m\n\u001b[1;32m    963\u001b[0m     \"\"\"\n\u001b[1;32m    964\u001b[0m     \u001b[0;32mif\u001b[0m \u001b[0mself\u001b[0m\u001b[0;34m.\u001b[0m\u001b[0m_tape\u001b[0m \u001b[0;32mis\u001b[0m \u001b[0;32mNone\u001b[0m\u001b[0;34m:\u001b[0m\u001b[0;34m\u001b[0m\u001b[0;34m\u001b[0m\u001b[0m\n\u001b[0;32m--> 965\u001b[0;31m       raise RuntimeError(\"GradientTape.gradient can only be called once on \"\n\u001b[0m\u001b[1;32m    966\u001b[0m                          \"non-persistent tapes.\")\n\u001b[1;32m    967\u001b[0m     \u001b[0;32mif\u001b[0m \u001b[0mself\u001b[0m\u001b[0;34m.\u001b[0m\u001b[0m_recording\u001b[0m\u001b[0;34m:\u001b[0m\u001b[0;34m\u001b[0m\u001b[0;34m\u001b[0m\u001b[0m\n",
      "\u001b[0;31mRuntimeError\u001b[0m: GradientTape.gradient can only be called once on non-persistent tapes."
     ]
    }
   ],
   "source": [
    "dloss_db = tape.gradient(loss, b)"
   ]
  },
  {
   "cell_type": "code",
   "execution_count": 8,
   "metadata": {
    "collapsed": true,
    "jupyter": {
     "outputs_hidden": true,
     "source_hidden": true
    }
   },
   "outputs": [
    {
     "data": {
      "text/plain": [
       "<tf.Tensor: id=103, shape=(2,), dtype=float32, numpy=array([0.28, 0.6 ], dtype=float32)>"
      ]
     },
     "execution_count": 8,
     "metadata": {},
     "output_type": "execute_result"
    }
   ],
   "source": [
    "0.2*x"
   ]
  },
  {
   "cell_type": "code",
   "execution_count": 9,
   "metadata": {
    "collapsed": true,
    "jupyter": {
     "outputs_hidden": true,
     "source_hidden": true
    }
   },
   "outputs": [
    {
     "data": {
      "text/plain": [
       "0.4"
      ]
     },
     "execution_count": 9,
     "metadata": {},
     "output_type": "execute_result"
    }
   ],
   "source": [
    "0.2*2*w.numpy()"
   ]
  },
  {
   "cell_type": "markdown",
   "metadata": {},
   "source": [
    "#### 複数の勾配計算のリソースを保持する"
   ]
  },
  {
   "cell_type": "code",
   "execution_count": 10,
   "metadata": {},
   "outputs": [
    {
     "name": "stdout",
     "output_type": "stream",
     "text": [
      "dL/dw: -9.55999947\n",
      "dL/db: -3.39999986\n"
     ]
    }
   ],
   "source": [
    "# 勾配テープの永続化\n",
    "with tf.GradientTape(persistent=True) as tape:\n",
    "    z = tf.add(tf.multiply(w, x), b)\n",
    "    loss = tf.reduce_sum(tf.square(y - z))\n",
    "\n",
    "dloss_dw = tape.gradient(loss, w)\n",
    "dloss_db = tape.gradient(loss, b)  # それぞれの勾配を計算\n",
    "\n",
    "tf.print('dL/dw:', dloss_dw)\n",
    "tf.print('dL/db:', dloss_db)\n"
   ]
  },
  {
   "cell_type": "markdown",
   "metadata": {},
   "source": [
    "勾配テープはデフォルトで1つの勾配計算のリソースしか保持しない\n",
    "\n",
    "複数の勾配を計算したい場合は勾配テープの永続化が必要"
   ]
  },
  {
   "cell_type": "markdown",
   "metadata": {},
   "source": [
    "##### モデルのパラメータについての損失項の勾配を計算する場合は、tf.kerasを使ってモデルのパラメータを最適化できる"
   ]
  },
  {
   "cell_type": "code",
   "execution_count": 11,
   "metadata": {},
   "outputs": [
    {
     "name": "stdout",
     "output_type": "stream",
     "text": [
      "w: 1\n",
      "bias: 0.5\n",
      "Updated w: 1.0956\n",
      "Updated bias: 0.534\n"
     ]
    }
   ],
   "source": [
    "optimizer = tf.keras.optimizers.SGD(learning_rate=0.01)  #確率的勾配降下法を最適化手法として用いる\n",
    "tf.print('w:', w)\n",
    "tf.print('bias:', b)\n",
    "optimizer.apply_gradients(zip([dloss_dw, dloss_db], [w, b]))\n",
    "\n",
    "# learning_rate=0.01を求めた勾配にかけて、w,bを更新している -> w := w + ⊿w = w - η∇J(w) \n",
    "tf.print('Updated w:', w)\n",
    "tf.print('Updated bias:', b)"
   ]
  },
  {
   "cell_type": "markdown",
   "metadata": {},
   "source": [
    "https://github.com/tensorflow/tensorflow/blob/v2.0.0/tensorflow/python/keras/optimizer_v2/optimizer_v2.py#L290-L319"
   ]
  },
  {
   "cell_type": "markdown",
   "metadata": {},
   "source": [
    "### Keras APIを使って一般的なアーキテクチャの実装を単純化する\n",
    "#### &emsp;Sequentialクラス"
   ]
  },
  {
   "cell_type": "code",
   "execution_count": 12,
   "metadata": {},
   "outputs": [
    {
     "name": "stdout",
     "output_type": "stream",
     "text": [
      "Model: \"sequential\"\n",
      "_________________________________________________________________\n",
      "Layer (type)                 Output Shape              Param #   \n",
      "=================================================================\n",
      "dense (Dense)                multiple                  80        \n",
      "_________________________________________________________________\n",
      "dense_1 (Dense)              multiple                  544       \n",
      "=================================================================\n",
      "Total params: 624\n",
      "Trainable params: 624\n",
      "Non-trainable params: 0\n",
      "_________________________________________________________________\n"
     ]
    }
   ],
   "source": [
    "# 2つの全結合層からなるモデルを構築\n",
    "model = tf.keras.Sequential()\n",
    "model.add(tf.keras.layers.Dense(units=16, activation='relu'))  # ノード数16、ReLU\n",
    "model.add(tf.keras.layers.Dense(units=32, activation='relu'))  # ノード数32、ReLU\n",
    "\n",
    "# 遅延変数作成\n",
    "model.build(input_shape=(None, 4))  #4変数＋バイアス\n",
    "model.summary()"
   ]
  },
  {
   "cell_type": "code",
   "execution_count": 16,
   "metadata": {
    "collapsed": true,
    "jupyter": {
     "outputs_hidden": true,
     "source_hidden": true
    }
   },
   "outputs": [
    {
     "name": "stdout",
     "output_type": "stream",
     "text": [
      "<tf.Variable 'dense/kernel:0' shape=(4, 16) dtype=float32, numpy=\n",
      "array([[ 0.01107168, -0.06185788, -0.10019699,  0.5394983 ,  0.206671  ,\n",
      "        -0.16886327, -0.0700351 ,  0.11070675, -0.04751575,  0.27681673,\n",
      "        -0.3417819 ,  0.05341059,  0.05358398,  0.05425417, -0.24111328,\n",
      "        -0.42836675],\n",
      "       [ 0.14340621,  0.40949714,  0.0353424 ,  0.06693077, -0.22573376,\n",
      "         0.4693805 , -0.4275126 ,  0.50778484,  0.20367903, -0.23935857,\n",
      "         0.3228191 , -0.44035769,  0.52153826,  0.36514854,  0.3953696 ,\n",
      "         0.18141991],\n",
      "       [-0.37664884,  0.48509216,  0.33363158,  0.52719975,  0.529469  ,\n",
      "        -0.5010209 , -0.08091474,  0.06693405, -0.12757066, -0.33226877,\n",
      "        -0.00499195, -0.14405495, -0.30291146,  0.15923822, -0.31403017,\n",
      "         0.33548725],\n",
      "       [-0.4889732 , -0.16730028,  0.04221666,  0.29997158,  0.04205495,\n",
      "         0.0620048 , -0.5081339 ,  0.23588419, -0.48569193, -0.42907205,\n",
      "         0.17296386, -0.28793088,  0.32853687,  0.10262799, -0.26030177,\n",
      "         0.16458708]], dtype=float32)>\n"
     ]
    }
   ],
   "source": [
    "print(model.weights[0])"
   ]
  },
  {
   "cell_type": "code",
   "execution_count": 95,
   "metadata": {
    "collapsed": true,
    "jupyter": {
     "outputs_hidden": true,
     "source_hidden": true
    }
   },
   "outputs": [
    {
     "data": {
      "text/plain": [
       "[<tf.Variable 'dense_47/kernel:0' shape=(4, 16) dtype=float32, numpy=\n",
       " array([[ 0.25719076, -0.39193642, -0.47828948, -0.34046444,  0.32662988,\n",
       "          0.22374058, -0.09975702,  0.01563728, -0.46866727, -0.16944751,\n",
       "          0.2745316 , -0.37976742, -0.2588943 ,  0.13709557,  0.16944087,\n",
       "         -0.33264107],\n",
       "        [ 0.2795396 , -0.06478474, -0.37655053,  0.10419333,  0.47267056,\n",
       "         -0.31361336,  0.12916738, -0.23119608,  0.38309622, -0.3333494 ,\n",
       "          0.36764175,  0.16238093, -0.49126774,  0.2983101 , -0.43900257,\n",
       "         -0.4315822 ],\n",
       "        [-0.13943127, -0.228264  , -0.49224743, -0.15167916, -0.3933516 ,\n",
       "          0.18732125,  0.32090223, -0.22944948,  0.10670221, -0.20661566,\n",
       "          0.18549722, -0.48415452, -0.35143584,  0.36277395,  0.44545877,\n",
       "          0.14634836],\n",
       "        [-0.15497455, -0.2779595 , -0.48989177, -0.1281066 , -0.23151067,\n",
       "         -0.01150471,  0.47730637,  0.40834814, -0.31298548,  0.43457294,\n",
       "         -0.2470294 ,  0.53373575,  0.24735367, -0.05347392, -0.24533504,\n",
       "          0.5052562 ]], dtype=float32)>,\n",
       " <tf.Variable 'dense_47/bias:0' shape=(16,) dtype=float32, numpy=\n",
       " array([0., 0., 0., 0., 0., 0., 0., 0., 0., 0., 0., 0., 0., 0., 0., 0.],\n",
       "       dtype=float32)>,\n",
       " <tf.Variable 'dense_48/kernel:0' shape=(16, 32) dtype=float32, numpy=\n",
       " array([[-0.11836934,  0.10312104,  0.14135471, -0.16761304,  0.03640646,\n",
       "          0.12141261, -0.3384027 , -0.23192492, -0.3012297 ,  0.20695332,\n",
       "          0.24619296,  0.1970506 ,  0.09170943,  0.23692706, -0.14510857,\n",
       "         -0.05402181,  0.1286197 , -0.21263708,  0.21707466,  0.27377507,\n",
       "          0.26629576, -0.22497937,  0.00209168, -0.3369567 , -0.24784808,\n",
       "         -0.3233566 , -0.0983201 ,  0.20635828,  0.15069565,  0.26788166,\n",
       "          0.1308459 , -0.178567  ],\n",
       "        [-0.13940635,  0.22309002, -0.2913755 ,  0.17894885, -0.31051436,\n",
       "          0.15631238, -0.23834717,  0.16647854,  0.00449336, -0.15110463,\n",
       "          0.15429756,  0.2563809 , -0.08519319,  0.19426897,  0.23940793,\n",
       "          0.22112378, -0.07467866,  0.02415141,  0.12734687, -0.19444422,\n",
       "          0.15316704,  0.00347164,  0.21084872,  0.04639021,  0.09492716,\n",
       "         -0.05869085, -0.2564794 , -0.0204387 , -0.07862276,  0.12869042,\n",
       "         -0.05878481,  0.28146532],\n",
       "        [-0.20784229, -0.2601891 ,  0.27706054, -0.20083167,  0.19732073,\n",
       "         -0.15697965,  0.02761495, -0.02624333,  0.31700727, -0.19188304,\n",
       "         -0.2332598 ,  0.19472721, -0.06726199, -0.25986508,  0.15225324,\n",
       "         -0.06687558, -0.16198972,  0.05558124, -0.02007377,  0.15838459,\n",
       "          0.24385604, -0.15903017, -0.07852775, -0.25255385, -0.04733479,\n",
       "         -0.00402215,  0.15639302,  0.29155007, -0.09768966,  0.3204505 ,\n",
       "         -0.332594  , -0.114646  ],\n",
       "        [ 0.22599462,  0.167739  ,  0.23349246, -0.3462518 ,  0.08535671,\n",
       "          0.17527482,  0.26305678, -0.09468424,  0.00104979, -0.31209126,\n",
       "         -0.06960973,  0.15360662,  0.03151101, -0.22911254, -0.25808486,\n",
       "          0.19865653, -0.1348646 , -0.20363915,  0.09749696, -0.3129423 ,\n",
       "         -0.31663764,  0.11014438,  0.20676836,  0.10399616, -0.17103013,\n",
       "         -0.05735689, -0.29713327,  0.11910942,  0.1513522 ,  0.20300898,\n",
       "          0.21875891, -0.35118178],\n",
       "        [ 0.04689747, -0.00562289,  0.28247955,  0.33797875, -0.14375219,\n",
       "         -0.12570879, -0.12383722,  0.24083039,  0.33594814,  0.2888634 ,\n",
       "          0.0966177 , -0.23992296,  0.26213214,  0.1626533 ,  0.04293332,\n",
       "          0.12789387, -0.19899566, -0.2697834 ,  0.13772544,  0.04614311,\n",
       "         -0.09116852, -0.23326907,  0.02605778,  0.30641392,  0.11813113,\n",
       "          0.2705886 ,  0.21201769,  0.18293628, -0.09146103,  0.04440457,\n",
       "         -0.1330619 , -0.34603092],\n",
       "        [ 0.07882759,  0.09642398, -0.31041938,  0.23092738, -0.25256827,\n",
       "         -0.05985788, -0.0385749 ,  0.01419076,  0.19686666, -0.21395805,\n",
       "          0.04863653, -0.19107813,  0.287267  , -0.15210359,  0.34938666,\n",
       "         -0.20139879,  0.15367624, -0.25763524,  0.1161803 ,  0.01484537,\n",
       "          0.34760472,  0.18328229,  0.3516524 , -0.07695392,  0.22910425,\n",
       "          0.12520158,  0.22433087,  0.14908966,  0.11188832,  0.3297114 ,\n",
       "          0.24177995,  0.28821483],\n",
       "        [ 0.00778142,  0.01733643,  0.18887123,  0.16318753,  0.1006867 ,\n",
       "         -0.17402273, -0.18156795,  0.09973335, -0.05163386, -0.2342633 ,\n",
       "          0.08211976,  0.15945056,  0.00149831,  0.22915038, -0.07483873,\n",
       "          0.2745897 , -0.2817871 ,  0.09212878,  0.05225873, -0.35003936,\n",
       "          0.32311246,  0.25384644, -0.24034947,  0.18291679,  0.28243384,\n",
       "         -0.09452477,  0.17683527,  0.04214188,  0.00736642,  0.04013544,\n",
       "         -0.22186582, -0.13761039],\n",
       "        [ 0.3271167 ,  0.26482138,  0.04907301,  0.07773194, -0.0720304 ,\n",
       "         -0.29178584,  0.19251552, -0.33431503, -0.35124508, -0.2829308 ,\n",
       "         -0.22556968,  0.00232971,  0.34408298,  0.24179998, -0.25400564,\n",
       "          0.3494819 ,  0.13113773,  0.1446265 ,  0.16172561, -0.04449916,\n",
       "          0.20269337, -0.25701332, -0.09912634, -0.05620837,  0.02975062,\n",
       "         -0.09741274, -0.21448463, -0.0240607 ,  0.26753655, -0.08733249,\n",
       "         -0.07273668,  0.07917175],\n",
       "        [ 0.2919418 , -0.15818125,  0.11759308, -0.04823065, -0.19469778,\n",
       "          0.33529732,  0.25113443,  0.21477655,  0.14450932,  0.24772385,\n",
       "          0.21371284, -0.31340927, -0.25875205,  0.05169514,  0.29348907,\n",
       "          0.01596749,  0.33900884, -0.17711075, -0.18721014, -0.27912086,\n",
       "         -0.34108964, -0.03852862,  0.1742827 ,  0.23079696, -0.25461796,\n",
       "          0.06537196, -0.08260632,  0.3497375 ,  0.22040197,  0.2188572 ,\n",
       "         -0.33329996,  0.2272661 ],\n",
       "        [ 0.16080293,  0.10149872,  0.12273011, -0.10443449,  0.14100152,\n",
       "          0.21409234,  0.24718192, -0.02831334, -0.18002841, -0.15042269,\n",
       "         -0.0376384 ,  0.12886468,  0.18796346,  0.3011097 , -0.16838154,\n",
       "         -0.21997729,  0.07485938, -0.00471658, -0.0769465 , -0.31588945,\n",
       "         -0.21009639, -0.3362662 ,  0.2195991 , -0.28880918,  0.02242684,\n",
       "          0.33105853, -0.30355507,  0.19454423, -0.16898602,  0.2060493 ,\n",
       "          0.2645571 ,  0.24163005],\n",
       "        [ 0.29962286, -0.12405705, -0.07556161, -0.10178128,  0.2689784 ,\n",
       "          0.02809718,  0.0087184 ,  0.20638934, -0.11340798, -0.16937865,\n",
       "          0.07783723,  0.16751948, -0.20057103,  0.23568645, -0.23943472,\n",
       "         -0.17767948,  0.14809635, -0.24892813,  0.28828964, -0.17358103,\n",
       "         -0.00603139,  0.24748299,  0.25770405, -0.18795876, -0.17788558,\n",
       "          0.2278128 , -0.04908809,  0.18704906,  0.31201085, -0.13048917,\n",
       "         -0.01125592, -0.16460747],\n",
       "        [-0.26396215,  0.04943362,  0.00139844, -0.2365593 ,  0.17226848,\n",
       "          0.02077562, -0.21947448, -0.3019073 ,  0.24695507,  0.27182522,\n",
       "          0.2962583 ,  0.34394506,  0.25762263,  0.23307297, -0.16595963,\n",
       "         -0.09109494, -0.22467051,  0.02432707, -0.08689129, -0.24076277,\n",
       "         -0.13638021,  0.17411175, -0.05602816, -0.20074645, -0.3165675 ,\n",
       "          0.09397939, -0.33483547,  0.15687582,  0.08860227,  0.22845241,\n",
       "         -0.0542601 ,  0.14510459],\n",
       "        [-0.19431686, -0.30197483, -0.20538495,  0.18484125,  0.01963487,\n",
       "         -0.26191315,  0.12035227, -0.1589581 ,  0.15559098,  0.24585006,\n",
       "         -0.2435996 ,  0.3091742 ,  0.29854777, -0.2308135 , -0.0101617 ,\n",
       "          0.12147185,  0.03463864, -0.01050764, -0.00668973,  0.33045825,\n",
       "         -0.20112467, -0.26047933, -0.03119904,  0.17303243, -0.32134822,\n",
       "          0.06796187,  0.0536831 , -0.09877905,  0.3077369 ,  0.2939138 ,\n",
       "         -0.24733278, -0.07903361],\n",
       "        [-0.05258679, -0.30529264,  0.16725674, -0.08944514, -0.34236297,\n",
       "          0.07168436, -0.11138324,  0.02686441,  0.12203991, -0.02831754,\n",
       "          0.24499008,  0.15487763, -0.23877782, -0.12815735,  0.22358355,\n",
       "         -0.23399003, -0.2187611 ,  0.26339075, -0.29918268, -0.14523424,\n",
       "          0.30037668,  0.1910452 ,  0.33071592, -0.22935194,  0.13143167,\n",
       "          0.30052212,  0.06923082,  0.04697981,  0.16880903,  0.20964172,\n",
       "          0.09754619,  0.24641457],\n",
       "        [ 0.0573633 ,  0.1147131 ,  0.30981585, -0.32001233,  0.33120444,\n",
       "          0.13537061, -0.19563505,  0.3079948 , -0.02604431, -0.27040735,\n",
       "         -0.06432721,  0.3191364 , -0.05558065, -0.04517719,  0.16673169,\n",
       "          0.32893404,  0.257598  ,  0.22006902,  0.03187424,  0.35218754,\n",
       "          0.06543779, -0.27504358, -0.11652271,  0.15936348, -0.16569485,\n",
       "         -0.26536447,  0.01699361, -0.34435222,  0.10375434, -0.24135646,\n",
       "         -0.33835784,  0.13832071],\n",
       "        [-0.2946803 , -0.33816734, -0.22398058, -0.30530494, -0.32819802,\n",
       "         -0.01060414,  0.01631141,  0.34377345, -0.1547816 , -0.0215818 ,\n",
       "         -0.23965794,  0.33677945,  0.1875163 ,  0.2853091 , -0.01926163,\n",
       "          0.11702031,  0.34018055, -0.05463782, -0.2637838 ,  0.24804923,\n",
       "          0.10551801,  0.04335022,  0.18091789,  0.132002  ,  0.30104837,\n",
       "         -0.30699873, -0.01089445,  0.16607031, -0.224004  , -0.06953588,\n",
       "          0.13270551,  0.2984242 ]], dtype=float32)>,\n",
       " <tf.Variable 'dense_48/bias:0' shape=(32,) dtype=float32, numpy=\n",
       " array([0., 0., 0., 0., 0., 0., 0., 0., 0., 0., 0., 0., 0., 0., 0., 0., 0.,\n",
       "        0., 0., 0., 0., 0., 0., 0., 0., 0., 0., 0., 0., 0., 0., 0.],\n",
       "       dtype=float32)>]"
      ]
     },
     "execution_count": 95,
     "metadata": {},
     "output_type": "execute_result"
    }
   ],
   "source": [
    "model.variables"
   ]
  },
  {
   "cell_type": "code",
   "execution_count": 13,
   "metadata": {},
   "outputs": [
    {
     "name": "stdout",
     "output_type": "stream",
     "text": [
      "dense/kernel:0       True (4, 16)\n",
      "dense/bias:0         True (16,)\n",
      "dense_1/kernel:0     True (16, 32)\n",
      "dense_1/bias:0       True (32,)\n"
     ]
    }
   ],
   "source": [
    "# モデルの変数を出力\n",
    "for v in model.variables:\n",
    "    print('{:20s}'.format(v.name), v.trainable, v.shape)"
   ]
  },
  {
   "cell_type": "markdown",
   "metadata": {},
   "source": [
    "Keras Initializers tf.keras.initializers: https://www.tensorflow.org/versions/r2.0/api_docs/python/tf/keras/initializers\n",
    "\n",
    "Keras Regularizers tf.keras.regularizers: https://www.tensorflow.org/versions/r2.0/api_docs/python/tf/keras/regularizers\n",
    "\n",
    "Activations tf.keras.activations: https://www.tensorflow.org/versions/r2.0/api_docs/python/tf/keras/activations"
   ]
  },
  {
   "cell_type": "code",
   "execution_count": 14,
   "metadata": {},
   "outputs": [
    {
     "name": "stdout",
     "output_type": "stream",
     "text": [
      "Model: \"sequential_1\"\n",
      "_________________________________________________________________\n",
      "Layer (type)                 Output Shape              Param #   \n",
      "=================================================================\n",
      "dense_2 (Dense)              multiple                  80        \n",
      "_________________________________________________________________\n",
      "dense_3 (Dense)              multiple                  544       \n",
      "=================================================================\n",
      "Total params: 624\n",
      "Trainable params: 624\n",
      "Non-trainable params: 0\n",
      "_________________________________________________________________\n"
     ]
    }
   ],
   "source": [
    "model = tf.keras.Sequential()\n",
    "\n",
    "model.add(\n",
    "    tf.keras.layers.Dense(\n",
    "        units=16, \n",
    "        activation=tf.keras.activations.relu,\n",
    "        kernel_initializer=tf.keras.initializers.glorot_uniform(),  # 重みの初期値を指定\n",
    "        bias_initializer=tf.keras.initializers.Constant(2.0)  # バイアスの初期値を指定\n",
    "    ))\n",
    "\n",
    "model.add(\n",
    "    tf.keras.layers.Dense(\n",
    "        units=32, \n",
    "        activation=tf.keras.activations.sigmoid,\n",
    "        kernel_regularizer=tf.keras.regularizers.l1  # 重みにL1正則化を適用（過学習を抑制）\n",
    "    ))\n",
    "\n",
    "model.build(input_shape=(None, 4))\n",
    "model.summary()"
   ]
  },
  {
   "cell_type": "markdown",
   "metadata": {},
   "source": [
    "\n",
    "http://proceedings.mlr.press/v9/glorot10a/glorot10a.pdf\n",
    "\n",
    "https://keras.io/ja/layers/core/"
   ]
  },
  {
   "cell_type": "code",
   "execution_count": 15,
   "metadata": {},
   "outputs": [],
   "source": [
    "model.compile(\n",
    "    optimizer=tf.keras.optimizers.SGD(learning_rate=0.01),\n",
    "    loss=tf.keras.losses.BinaryCrossentropy(),  # 正則化項なし\n",
    "    metrics=[tf.keras.metrics.Accuracy(), \n",
    "             tf.keras.metrics.Precision(),\n",
    "             tf.keras.metrics.Recall(),])"
   ]
  },
  {
   "cell_type": "markdown",
   "metadata": {},
   "source": [
    "オプティマイザとして確率的勾配降下法、二値分類の損失関数として交差エントロピー、性能指標として正解率、適合率、再現率を使ってモデルをコンパイルする"
   ]
  },
  {
   "cell_type": "code",
   "execution_count": 16,
   "metadata": {},
   "outputs": [
    {
     "data": {
      "text/plain": [
       "0.22314338"
      ]
     },
     "execution_count": 16,
     "metadata": {},
     "output_type": "execute_result"
    }
   ],
   "source": [
    "# Example 1: (batch_size = 1, number of samples = 4)\n",
    "y_true = [1]\n",
    "y_pred = [0.8]\n",
    "bce = tf.keras.losses.BinaryCrossentropy(from_logits=False)\n",
    "bce(y_true, y_pred).numpy()\n"
   ]
  },
  {
   "cell_type": "code",
   "execution_count": 17,
   "metadata": {},
   "outputs": [
    {
     "data": {
      "text/plain": [
       "0.22314355131420976"
      ]
     },
     "execution_count": 17,
     "metadata": {},
     "output_type": "execute_result"
    }
   ],
   "source": [
    "np.log(1/0.8)"
   ]
  },
  {
   "cell_type": "code",
   "execution_count": 18,
   "metadata": {},
   "outputs": [
    {
     "data": {
      "text/plain": [
       "0.69314694"
      ]
     },
     "execution_count": 18,
     "metadata": {},
     "output_type": "execute_result"
    }
   ],
   "source": [
    "# Example 1: (batch_size = 1, number of samples = 4)\n",
    "y_true = [0, 1]\n",
    "y_pred = [0.5, 0.5]\n",
    "bce = tf.keras.losses.BinaryCrossentropy(from_logits=False)\n",
    "bce(y_true, y_pred).numpy()\n"
   ]
  },
  {
   "cell_type": "code",
   "execution_count": 19,
   "metadata": {},
   "outputs": [
    {
     "data": {
      "text/plain": [
       "0.6931471805599453"
      ]
     },
     "execution_count": 19,
     "metadata": {},
     "output_type": "execute_result"
    }
   ],
   "source": [
    "np.log(1/0.5)"
   ]
  },
  {
   "cell_type": "code",
   "execution_count": 83,
   "metadata": {},
   "outputs": [],
   "source": [
    "# keras.layers.Dense(units,\n",
    "#                     activation=None, \n",
    "#                     use_bias=True, \n",
    "#                     kernel_initializer='glorot_uniform', \n",
    "#                     bias_initializer='zeros', \n",
    "#                     kernel_regularizer=None, \n",
    "#                     bias_regularizer=None, \n",
    "#                     activity_regularizer=None, \n",
    "#                     kernel_constraint=None, \n",
    "#                     bias_constraint=None\n",
    "#                     )"
   ]
  },
  {
   "cell_type": "markdown",
   "metadata": {},
   "source": [
    "#### Glorotの一様分布\n",
    "\n",
    "$$U [ -\\frac{\\sqrt{6}}{\\sqrt{n_{in} + n_{out}}}, \\frac{\\sqrt{6}}{\\sqrt{n_{in} + n_{out}}} ]$$\n"
   ]
  },
  {
   "cell_type": "markdown",
   "metadata": {},
   "source": [
    "#### Glorotの正規分布\n",
    "\n",
    "$$N(0, \\frac{2}{n_{in} + n_{out}})$$"
   ]
  },
  {
   "cell_type": "markdown",
   "metadata": {},
   "source": [
    "n_in: 重みと掛け合わせるニューロンの個数\n",
    "\n",
    "n_out: 次の層に供給する出力ニューロンの個数"
   ]
  },
  {
   "cell_type": "markdown",
   "metadata": {},
   "source": [
    "### 14.5 XOR分類問題\n",
    "\n",
    "#### &emsp;線形分離不可能な問題\n",
    "#### &emsp;[-1,1)の一様分布から抽出された２つの特徴量（x1, x2）\n",
    "#### &emsp;TensorFlowを使用して分類に挑戦"
   ]
  },
  {
   "cell_type": "code",
   "execution_count": 20,
   "metadata": {},
   "outputs": [],
   "source": [
    "tf.random.set_seed(1)\n",
    "np.random.seed(1)\n",
    "\n",
    "x = np.random.uniform(low=-1, high=1, size=(200, 2))\n",
    "y = np.ones(len(x))\n",
    "y[x[:, 0] * x[:, 1]<0] = 0\n",
    "\n",
    "x_train = x[:100, :]\n",
    "y_train = y[:100]\n",
    "x_valid = x[100:, :]\n",
    "y_valid = y[100:]"
   ]
  },
  {
   "cell_type": "code",
   "execution_count": 48,
   "metadata": {
    "jupyter": {
     "source_hidden": true
    }
   },
   "outputs": [
    {
     "data": {
      "image/png": "[encoded data removed]",
      "text/plain": [
       "<Figure size 432x432 with 1 Axes>"
      ]
     },
     "metadata": {
      "needs_background": "light"
     },
     "output_type": "display_data"
    }
   ],
   "source": [
    "fig = plt.figure(figsize=(6, 6))\n",
    "plt.plot(x[y==0, 0], \n",
    "         x[y==0, 1], 'o', alpha=0.75, markersize=10)\n",
    "plt.plot(x[y==1, 0], \n",
    "         x[y==1, 1], '<', alpha=0.75, markersize=10)\n",
    "plt.xlabel(r'$x_1$', size=15)\n",
    "plt.ylabel(r'$x_2$', size=15)\n",
    "plt.show()"
   ]
  },
  {
   "cell_type": "markdown",
   "metadata": {},
   "source": [
    "$$\n",
    "    % ローマン体にする\n",
    "    {y^{(i)}} =\n",
    "        \\begin{cases}\n",
    "            0 \\quad x_1^{(i)} ×　x_2^{(i)} < 0 \\\\\n",
    "            1 \\quad x_1^{(i)} ×　x_2^{(i)} \\geqq 0 \\\\\n",
    "        \\end{cases}\n",
    "$$"
   ]
  },
  {
   "cell_type": "markdown",
   "metadata": {},
   "source": [
    "* 仮説：\n",
    "    * 出力ラベル$y=1$の確率の推定モデル：$$a^{out}=\\sigma(w_0+w_1x_1+\\cdots+w_dx_d), \\text{ $\\sigma(z)$はsigmoid関数とする。}$$\n",
    "    * 確率の推定値が0.5より大きければ$1$, 小さければ$0$と予測する。"
   ]
  },
  {
   "cell_type": "markdown",
   "metadata": {},
   "source": [
    "* 損失関数：交差エントロピー損失\n",
    "\\begin{eqnarray*}\n",
    "L(w)=\\begin{cases}\n",
    "-\\log(a^{(i)})\\text{ if }y^{(i)} = 1\\\\\n",
    "-\\log(1-a^{(i)})\\text{ if }y^{(i)} =0\n",
    "\\end{cases}\n",
    "\\end{eqnarray*}\n",
    "\n",
    "\n",
    "学習時には、各データ点に対して交差エントロピー損失を計算し、その平均値が最も小さくなるような1次式を予測器として求める。（正則化項を加えたコスト関数J(W)を最小化）"
   ]
  },
  {
   "cell_type": "markdown",
   "metadata": {},
   "source": [
    "$$J(w) = -\\big\\lbrack\\frac{1}{n}\\sum_{i=1}^{n}\\sum_{j=1}^{t}y_j\\log(a_j^{(i)})+(1-y_j)\\log(1-a_j^{(i)})\\big\\rbrack+\\frac{\\lambda}{2}\\sum_{l=1}^{L-1}\\sum_{i=1}^{u_l}\\sum_{j=1}^{u_{l+1}}||w_{j, i}^{(l)}||_2^2$$"
   ]
  },
  {
   "cell_type": "markdown",
   "metadata": {},
   "source": [
    "#### 1.ロジスティック回帰（単相ニューラルネットワーク）\n",
    "#### 2.Sequentialクラスを用いる（簡単にモデルの構築ができる）\n",
    "#### 3.Functional APIを用いる（複雑なモデルを構築できる）\n",
    "#### 4.サブクラス化を用いる（複雑なモデルを構築できる）\n",
    "#### 5.NoisyLinear(サブクラス）を用いる"
   ]
  },
  {
   "cell_type": "code",
   "execution_count": 87,
   "metadata": {
    "collapsed": true,
    "jupyter": {
     "outputs_hidden": true,
     "source_hidden": true
    }
   },
   "outputs": [
    {
     "data": {
      "text/html": [
       "<div>\n",
       "<style scoped>\n",
       "    .dataframe tbody tr th:only-of-type {\n",
       "        vertical-align: middle;\n",
       "    }\n",
       "\n",
       "    .dataframe tbody tr th {\n",
       "        vertical-align: top;\n",
       "    }\n",
       "\n",
       "    .dataframe thead th {\n",
       "        text-align: right;\n",
       "    }\n",
       "</style>\n",
       "<table border=\"1\" class=\"dataframe\">\n",
       "  <thead>\n",
       "    <tr style=\"text-align: right;\">\n",
       "      <th></th>\n",
       "      <th>x1</th>\n",
       "      <th>x2</th>\n",
       "      <th>y</th>\n",
       "    </tr>\n",
       "  </thead>\n",
       "  <tbody>\n",
       "    <tr>\n",
       "      <td>0</td>\n",
       "      <td>0</td>\n",
       "      <td>0</td>\n",
       "      <td>0</td>\n",
       "    </tr>\n",
       "    <tr>\n",
       "      <td>1</td>\n",
       "      <td>0</td>\n",
       "      <td>1</td>\n",
       "      <td>1</td>\n",
       "    </tr>\n",
       "    <tr>\n",
       "      <td>2</td>\n",
       "      <td>1</td>\n",
       "      <td>0</td>\n",
       "      <td>1</td>\n",
       "    </tr>\n",
       "    <tr>\n",
       "      <td>3</td>\n",
       "      <td>1</td>\n",
       "      <td>1</td>\n",
       "      <td>0</td>\n",
       "    </tr>\n",
       "  </tbody>\n",
       "</table>\n",
       "</div>"
      ],
      "text/plain": [
       "   x1  x2  y\n",
       "0   0   0  0\n",
       "1   0   1  1\n",
       "2   1   0  1\n",
       "3   1   1  0"
      ]
     },
     "execution_count": 87,
     "metadata": {},
     "output_type": "execute_result"
    }
   ],
   "source": [
    "import pandas as pd\n",
    "\n",
    "xor = pd.DataFrame({'x1':[0, 0, 1, 1], 'x2': [0, 1, 0, 1], 'y':[0, 1, 1, 0]})\n",
    "xor"
   ]
  },
  {
   "cell_type": "code",
   "execution_count": 88,
   "metadata": {
    "collapsed": true,
    "jupyter": {
     "outputs_hidden": true,
     "source_hidden": true
    }
   },
   "outputs": [
    {
     "data": {
      "text/plain": [
       "<matplotlib.axes._subplots.AxesSubplot at 0x7fca11b28790>"
      ]
     },
     "execution_count": 88,
     "metadata": {},
     "output_type": "execute_result"
    },
    {
     "data": {
      "image/png": "[encoded data removed]",
      "text/plain": [
       "<Figure size 576x576 with 1 Axes>"
      ]
     },
     "metadata": {
      "needs_background": "light"
     },
     "output_type": "display_data"
    }
   ],
   "source": [
    "import seaborn as sns\n",
    "\n",
    "fig = plt.figure(figsize=(8, 8))\n",
    "sns.scatterplot(data=xor, x='x1', y='x2', hue='y')"
   ]
  },
  {
   "cell_type": "code",
   "execution_count": 21,
   "metadata": {},
   "outputs": [
    {
     "name": "stdout",
     "output_type": "stream",
     "text": [
      "Model: \"sequential_2\"\n",
      "_________________________________________________________________\n",
      "Layer (type)                 Output Shape              Param #   \n",
      "=================================================================\n",
      "dense_4 (Dense)              (None, 1)                 3         \n",
      "=================================================================\n",
      "Total params: 3\n",
      "Trainable params: 3\n",
      "Non-trainable params: 0\n",
      "_________________________________________________________________\n"
     ]
    }
   ],
   "source": [
    "# ベースラインとして単純なモデルから始める\n",
    "# ユニット１， 入力2＋バイアス, 活性化関数シグモイド\n",
    "model = tf.keras.Sequential()\n",
    "model.add(tf.keras.layers.Dense(units=1, \n",
    "                                input_shape=(2,),\n",
    "                                activation='sigmoid'))\n",
    "\n",
    "model.summary()\n"
   ]
  },
  {
   "cell_type": "code",
   "execution_count": 22,
   "metadata": {},
   "outputs": [],
   "source": [
    "model.compile(optimizer=tf.keras.optimizers.SGD(),\n",
    "              loss=tf.keras.losses.BinaryCrossentropy(),\n",
    "              metrics=[tf.keras.metrics.BinaryAccuracy()])"
   ]
  },
  {
   "cell_type": "code",
   "execution_count": 25,
   "metadata": {
    "jupyter": {
     "source_hidden": true
    }
   },
   "outputs": [],
   "source": [
    "import time"
   ]
  },
  {
   "cell_type": "code",
   "execution_count": 27,
   "metadata": {},
   "outputs": [
    {
     "name": "stdout",
     "output_type": "stream",
     "text": [
      "経過時間:21.1908s\n"
     ]
    }
   ],
   "source": [
    "t1 = time.time()\n",
    "\n",
    "hist = model.fit(x_train, y_train, \n",
    "                 validation_data=(x_valid, y_valid), \n",
    "                 epochs=200, batch_size=2, verbose=0)\n",
    "\n",
    "t2 = time.time()\n",
    "print(f'経過時間:{t2-t1:.4f}s')"
   ]
  },
  {
   "cell_type": "code",
   "execution_count": 24,
   "metadata": {},
   "outputs": [
    {
     "data": {
      "image/png": "[encoded data removed]",
      "text/plain": [
       "<Figure size 1152x288 with 3 Axes>"
      ]
     },
     "metadata": {
      "needs_background": "light"
     },
     "output_type": "display_data"
    }
   ],
   "source": [
    "from mlxtend.plotting import plot_decision_regions\n",
    "\n",
    "history = hist.history\n",
    "\n",
    "\n",
    "def show_history(history):\n",
    "\n",
    "    fig = plt.figure(figsize=(16, 4))\n",
    "    ax = fig.add_subplot(1, 3, 1)\n",
    "    plt.plot(history['loss'], lw=4)\n",
    "    plt.plot(history['val_loss'], lw=4)\n",
    "    plt.legend(['Train loss', 'Validation loss'], fontsize=15)\n",
    "    ax.set_xlabel('Epochs', size=15)\n",
    "\n",
    "    ax = fig.add_subplot(1, 3, 2)\n",
    "    plt.plot(history['binary_accuracy'], lw=4)\n",
    "    plt.plot(history['val_binary_accuracy'], lw=4)\n",
    "    plt.legend(['Train Acc.', 'Validation Acc.'], fontsize=15)\n",
    "    ax.set_xlabel('Epochs', size=15)\n",
    "\n",
    "    ax = fig.add_subplot(1, 3, 3)\n",
    "    plot_decision_regions(X=x_valid, y=y_valid.astype(np.integer),\n",
    "                          clf=model)\n",
    "    ax.set_xlabel(r'$x_1$', size=15)\n",
    "    ax.xaxis.set_label_coords(1, -0.025)\n",
    "    ax.set_ylabel(r'$x_2$', size=15)\n",
    "    ax.yaxis.set_label_coords(-0.025, 1)\n",
    "    plt.show()\n",
    "    \n",
    "show_history(history)\n"
   ]
  },
  {
   "cell_type": "markdown",
   "metadata": {},
   "source": [
    "隠れ層を持たない単純なモデルは線形の決定境界しか抽出できないためXOR問題を解くのは不可能\n",
    "\n",
    "訓練データと検証データの両方で損失項の値が非常に大きいことと分類正解率が非常に低いこと\n",
    "\n",
    "検証データセットで満足する結果が観測されるまで隠れユニットの個数を変えながら比較してみる"
   ]
  },
  {
   "cell_type": "markdown",
   "metadata": {},
   "source": [
    "### Sequentialクラス"
   ]
  },
  {
   "cell_type": "code",
   "execution_count": 28,
   "metadata": {},
   "outputs": [
    {
     "name": "stdout",
     "output_type": "stream",
     "text": [
      "Model: \"sequential_3\"\n",
      "_________________________________________________________________\n",
      "Layer (type)                 Output Shape              Param #   \n",
      "=================================================================\n",
      "dense_5 (Dense)              (None, 4)                 12        \n",
      "_________________________________________________________________\n",
      "dense_6 (Dense)              (None, 4)                 20        \n",
      "_________________________________________________________________\n",
      "dense_7 (Dense)              (None, 4)                 20        \n",
      "_________________________________________________________________\n",
      "dense_8 (Dense)              (None, 1)                 5         \n",
      "=================================================================\n",
      "Total params: 57\n",
      "Trainable params: 57\n",
      "Non-trainable params: 0\n",
      "_________________________________________________________________\n",
      "経過時間:25.0581s\n"
     ]
    }
   ],
   "source": [
    "# 4つのユニットを持つ３つの隠れ層からなるニューラルネットワーク\n",
    "\n",
    "tf.random.set_seed(1)\n",
    "\n",
    "model = tf.keras.Sequential()\n",
    "model.add(tf.keras.layers.Dense(units=4, input_shape=(2,), activation='relu'))\n",
    "model.add(tf.keras.layers.Dense(units=4, activation='relu'))\n",
    "model.add(tf.keras.layers.Dense(units=4, activation='relu'))\n",
    "model.add(tf.keras.layers.Dense(units=1, activation='sigmoid'))\n",
    "\n",
    "model.summary()\n",
    "\n",
    "## compile:\n",
    "model.compile(optimizer=tf.keras.optimizers.SGD(learning_rate=0.01),\n",
    "              loss=tf.keras.losses.BinaryCrossentropy(),\n",
    "              metrics=[tf.keras.metrics.BinaryAccuracy()])\n",
    "t1 = time.time()\n",
    "\n",
    "## train:\n",
    "hist = model.fit(x_train, y_train, \n",
    "                 validation_data=(x_valid, y_valid), \n",
    "                 epochs=200, batch_size=2, verbose=0)\n",
    "\n",
    "t2 = time.time()\n",
    "print(f'経過時間:{t2-t1:.4f}s')\n",
    "\n",
    "history = hist.history"
   ]
  },
  {
   "cell_type": "code",
   "execution_count": 31,
   "metadata": {
    "collapsed": true,
    "jupyter": {
     "outputs_hidden": true,
     "source_hidden": true
    }
   },
   "outputs": [
    {
     "name": "stdout",
     "output_type": "stream",
     "text": [
      "Model: \"sequential_4\"\n",
      "_________________________________________________________________\n",
      "Layer (type)                 Output Shape              Param #   \n",
      "=================================================================\n",
      "dense_9 (Dense)              (None, 4)                 12        \n",
      "_________________________________________________________________\n",
      "dense_10 (Dense)             (None, 4)                 20        \n",
      "_________________________________________________________________\n",
      "dense_11 (Dense)             (None, 4)                 20        \n",
      "_________________________________________________________________\n",
      "dense_12 (Dense)             (None, 1)                 5         \n",
      "=================================================================\n",
      "Total params: 57\n",
      "Trainable params: 57\n",
      "Non-trainable params: 0\n",
      "_________________________________________________________________\n",
      "経過時間:46.2643s\n"
     ]
    }
   ],
   "source": [
    "# 4つのユニットを持つ３つの隠れ層からなるニューラルネットワーク\n",
    "\n",
    "tf.random.set_seed(1)\n",
    "\n",
    "model = tf.keras.Sequential()\n",
    "model.add(tf.keras.layers.Dense(units=4, input_shape=(2,), activation='relu'))\n",
    "model.add(tf.keras.layers.Dense(units=4, activation='relu'))\n",
    "model.add(tf.keras.layers.Dense(units=4, activation='relu'))\n",
    "model.add(tf.keras.layers.Dense(units=1, activation='sigmoid'))\n",
    "\n",
    "model.summary()\n",
    "\n",
    "## compile:\n",
    "model.compile(optimizer=tf.keras.optimizers.SGD(learning_rate=0.01),\n",
    "              loss=tf.keras.losses.BinaryCrossentropy(),\n",
    "              metrics=[tf.keras.metrics.BinaryAccuracy()])\n",
    "t1 = time.time()\n",
    "\n",
    "## train:\n",
    "hist = model.fit(x_train, y_train, \n",
    "                 validation_data=(x_valid, y_valid), \n",
    "                 epochs=200, batch_size=1, verbose=0)\n",
    "\n",
    "t2 = time.time()\n",
    "print(f'経過時間:{t2-t1:.4f}s')\n",
    "\n",
    "history = hist.history"
   ]
  },
  {
   "cell_type": "code",
   "execution_count": 29,
   "metadata": {
    "jupyter": {
     "source_hidden": true
    }
   },
   "outputs": [
    {
     "data": {
      "image/png": "[encoded data removed]",
      "text/plain": [
       "<Figure size 1152x288 with 3 Axes>"
      ]
     },
     "metadata": {
      "needs_background": "light"
     },
     "output_type": "display_data"
    }
   ],
   "source": [
    "show_history(history)"
   ]
  },
  {
   "cell_type": "markdown",
   "metadata": {},
   "source": [
    "非線形の決定境界を抽出\n",
    "\n",
    "訓練データの正解率100%、検証データセット95%　→　過学習"
   ]
  },
  {
   "cell_type": "code",
   "execution_count": 122,
   "metadata": {
    "collapsed": true,
    "jupyter": {
     "outputs_hidden": true,
     "source_hidden": true
    }
   },
   "outputs": [
    {
     "data": {
      "text/plain": [
       "array([[0.956876  ],\n",
       "       [0.98765343],\n",
       "       [0.06630644],\n",
       "       [0.5902991 ],\n",
       "       [0.99774235],\n",
       "       [0.434168  ],\n",
       "       [0.9873723 ],\n",
       "       [0.47118878],\n",
       "       [0.02597454],\n",
       "       [0.00407237],\n",
       "       [0.9571688 ],\n",
       "       [0.02597454],\n",
       "       [0.16895908],\n",
       "       [0.95420325],\n",
       "       [0.99584293],\n",
       "       [0.05473787],\n",
       "       [0.01220518],\n",
       "       [0.15827405],\n",
       "       [0.27278608],\n",
       "       [0.28664792],\n",
       "       [0.06309414],\n",
       "       [0.03928414],\n",
       "       [0.97122777],\n",
       "       [0.9473719 ],\n",
       "       [0.9853349 ],\n",
       "       [0.02597454],\n",
       "       [0.36199105],\n",
       "       [0.9546572 ],\n",
       "       [0.61524457],\n",
       "       [0.02597454],\n",
       "       [0.9897412 ],\n",
       "       [0.98274213],\n",
       "       [0.01375884],\n",
       "       [0.17518893],\n",
       "       [0.3570233 ],\n",
       "       [0.7140418 ],\n",
       "       [0.08127666],\n",
       "       [0.993523  ],\n",
       "       [0.76632655],\n",
       "       [0.0475944 ],\n",
       "       [0.9967358 ],\n",
       "       [0.02744889],\n",
       "       [0.02597454],\n",
       "       [0.7522792 ],\n",
       "       [0.8073175 ],\n",
       "       [0.64968413],\n",
       "       [0.15855435],\n",
       "       [0.9750924 ],\n",
       "       [0.95663404],\n",
       "       [0.00262681],\n",
       "       [0.9941181 ],\n",
       "       [0.8856329 ],\n",
       "       [0.642858  ],\n",
       "       [0.9542544 ],\n",
       "       [0.04878297],\n",
       "       [0.9975124 ],\n",
       "       [0.98403144],\n",
       "       [0.3435182 ],\n",
       "       [0.01470634],\n",
       "       [0.02597454],\n",
       "       [0.04141966],\n",
       "       [0.98609227],\n",
       "       [0.09263071],\n",
       "       [0.03367478],\n",
       "       [0.5109566 ],\n",
       "       [0.02597454],\n",
       "       [0.180823  ],\n",
       "       [0.00546414],\n",
       "       [0.06360385],\n",
       "       [0.87926143],\n",
       "       [0.9968852 ],\n",
       "       [0.99437034],\n",
       "       [0.02980125],\n",
       "       [0.9557903 ],\n",
       "       [0.00519404],\n",
       "       [0.98640585],\n",
       "       [0.9661013 ],\n",
       "       [0.04248109],\n",
       "       [0.26878813],\n",
       "       [0.9950502 ],\n",
       "       [0.9774965 ],\n",
       "       [0.91583127],\n",
       "       [0.9890699 ],\n",
       "       [0.9537599 ],\n",
       "       [0.1934132 ],\n",
       "       [0.97416687],\n",
       "       [0.02597454],\n",
       "       [0.9652072 ],\n",
       "       [0.99093235],\n",
       "       [0.01750207],\n",
       "       [0.05187392],\n",
       "       [0.00270945],\n",
       "       [0.96631247],\n",
       "       [0.28188586],\n",
       "       [0.6776424 ],\n",
       "       [0.02597454],\n",
       "       [0.98585004],\n",
       "       [0.9507712 ],\n",
       "       [0.06746091],\n",
       "       [0.14540839]], dtype=float32)"
      ]
     },
     "execution_count": 122,
     "metadata": {},
     "output_type": "execute_result"
    }
   ],
   "source": [
    "model.predict(x_valid)"
   ]
  },
  {
   "cell_type": "markdown",
   "metadata": {},
   "source": [
    "### KerasのFunctoionalAPIを使ってより柔軟にモデルを構築\n",
    "\n",
    "#### 複数の入力、出力、または中間の分岐を持つような複雑なモデルを構築可能"
   ]
  },
  {
   "cell_type": "code",
   "execution_count": 37,
   "metadata": {},
   "outputs": [
    {
     "name": "stdout",
     "output_type": "stream",
     "text": [
      "Model: \"model_1\"\n",
      "_________________________________________________________________\n",
      "Layer (type)                 Output Shape              Param #   \n",
      "=================================================================\n",
      "input_2 (InputLayer)         [(None, 2)]               0         \n",
      "_________________________________________________________________\n",
      "dense_20 (Dense)             (None, 4)                 12        \n",
      "_________________________________________________________________\n",
      "dense_21 (Dense)             (None, 4)                 20        \n",
      "_________________________________________________________________\n",
      "dense_22 (Dense)             (None, 4)                 20        \n",
      "_________________________________________________________________\n",
      "dense_23 (Dense)             (None, 1)                 5         \n",
      "=================================================================\n",
      "Total params: 57\n",
      "Trainable params: 57\n",
      "Non-trainable params: 0\n",
      "_________________________________________________________________\n"
     ]
    }
   ],
   "source": [
    "tf.random.set_seed(1)\n",
    "\n",
    "## input layer:\n",
    "inputs = tf.keras.Input(shape=(2,))\n",
    "\n",
    "## hidden layers\n",
    "h1 = tf.keras.layers.Dense(units=4, activation='relu')(inputs)  # 各層の出力を次の層の入力として用いる\n",
    "h2 = tf.keras.layers.Dense(units=4, activation='relu')(h1)\n",
    "h3 = tf.keras.layers.Dense(units=4, activation='relu')(h2)\n",
    "\n",
    "## output:\n",
    "outputs = tf.keras.layers.Dense(units=1, activation='sigmoid')(h3)\n",
    "\n",
    "## construct a model:\n",
    "model = tf.keras.Model(inputs=inputs, outputs=outputs)\n",
    "\n",
    "model.summary()"
   ]
  },
  {
   "cell_type": "code",
   "execution_count": 30,
   "metadata": {},
   "outputs": [
    {
     "name": "stdout",
     "output_type": "stream",
     "text": [
      "経過時間:47.6276s\n"
     ]
    }
   ],
   "source": [
    "## compile:\n",
    "model.compile(optimizer=tf.keras.optimizers.SGD(learning_rate=0.01),\n",
    "              loss=tf.keras.losses.BinaryCrossentropy(),\n",
    "              metrics=[tf.keras.metrics.BinaryAccuracy()])\n",
    "\n",
    "t1 = time.time()\n",
    "## train:\n",
    "hist = model.fit(x_train, y_train, \n",
    "                 validation_data=(x_valid, y_valid), \n",
    "                 epochs=200, batch_size=1, verbose=0)\n",
    "t2 = time.time()\n",
    "print(f'経過時間:{t2-t1:.4f}s')\n",
    "## Plotting\n",
    "history = hist.history\n"
   ]
  },
  {
   "cell_type": "code",
   "execution_count": 39,
   "metadata": {
    "jupyter": {
     "source_hidden": true
    }
   },
   "outputs": [
    {
     "data": {
      "image/png": "[encoded data removed]",
      "text/plain": [
       "<Figure size 1152x288 with 3 Axes>"
      ]
     },
     "metadata": {
      "needs_background": "light"
     },
     "output_type": "display_data"
    }
   ],
   "source": [
    "show_history(history)"
   ]
  },
  {
   "cell_type": "code",
   "execution_count": 35,
   "metadata": {},
   "outputs": [
    {
     "name": "stdout",
     "output_type": "stream",
     "text": [
      "Model: \"my_model_1\"\n",
      "_________________________________________________________________\n",
      "Layer (type)                 Output Shape              Param #   \n",
      "=================================================================\n",
      "dense_17 (Dense)             multiple                  12        \n",
      "_________________________________________________________________\n",
      "dense_18 (Dense)             multiple                  20        \n",
      "_________________________________________________________________\n",
      "dense_19 (Dense)             multiple                  20        \n",
      "_________________________________________________________________\n",
      "dense_20 (Dense)             multiple                  5         \n",
      "=================================================================\n",
      "Total params: 57\n",
      "Trainable params: 57\n",
      "Non-trainable params: 0\n",
      "_________________________________________________________________\n"
     ]
    }
   ],
   "source": [
    "# サブクラス化\n",
    "\n",
    "class MyModel(tf.keras.Model):\n",
    "    \n",
    "    def __init__(self):  # クラスの属性として層を定義\n",
    "        super(MyModel, self).__init__()  # tf.keras.Modelのメソッドを継承\n",
    "        self.hidden_1 = tf.keras.layers.Dense(units=4, activation='relu')\n",
    "        self.hidden_2 = tf.keras.layers.Dense(units=4, activation='relu')\n",
    "        self.hidden_3 = tf.keras.layers.Dense(units=4, activation='relu')\n",
    "        self.output_layer = tf.keras.layers.Dense(units=1, activation='sigmoid')\n",
    "        \n",
    "    def call(self, inputs):\n",
    "        h = self.hidden_1(inputs)\n",
    "        h = self.hidden_2(h)\n",
    "        h = self.hidden_3(h)\n",
    "        return self.output_layer(h)\n",
    "    \n",
    "    \n",
    "tf.random.set_seed(1)\n",
    "\n",
    "## testing:\n",
    "model = MyModel()\n",
    "model.build(input_shape=(None, 2))\n",
    "\n",
    "model.summary()\n",
    "\n"
   ]
  },
  {
   "cell_type": "code",
   "execution_count": 73,
   "metadata": {
    "collapsed": true,
    "jupyter": {
     "outputs_hidden": true,
     "source_hidden": true
    }
   },
   "outputs": [
    {
     "data": {
      "text/plain": [
       "[array([[-0.6697383 ,  0.80296254,  0.26194835, -0.13090777],\n",
       "        [-0.41612196,  0.28500414,  0.951571  , -0.12980103]],\n",
       "       dtype=float32),\n",
       " array([0., 0., 0., 0.], dtype=float32),\n",
       " array([[ 0.01750588, -0.09780586, -0.15842533,  0.8530217 ],\n",
       "        [ 0.3267756 , -0.26699626, -0.11073524,  0.17504281],\n",
       "        [-0.07512897,  0.43768567, -0.5404047 ,  0.08444953],\n",
       "        [ 0.08472371,  0.08578336, -0.38123354, -0.67730725]],\n",
       "       dtype=float32),\n",
       " array([0., 0., 0., 0.], dtype=float32),\n",
       " array([[ 0.5703252 ,  0.23248965,  0.02550894, -0.18865347],\n",
       "        [ 0.14012784, -0.7820524 , -0.5583576 ,  0.35455364],\n",
       "        [-0.01401502, -0.26666218,  0.0137018 , -0.4820744 ],\n",
       "        [ 0.6037163 ,  0.76918274,  0.04571289, -0.20413756]],\n",
       "       dtype=float32),\n",
       " array([0., 0., 0., 0.], dtype=float32),\n",
       " array([[-0.57740456],\n",
       "        [-0.572319  ],\n",
       "        [ 0.00795567],\n",
       "        [ 0.5992962 ]], dtype=float32),\n",
       " array([0.], dtype=float32)]"
      ]
     },
     "execution_count": 73,
     "metadata": {},
     "output_type": "execute_result"
    }
   ],
   "source": [
    "model.get_weights()"
   ]
  },
  {
   "cell_type": "code",
   "execution_count": 36,
   "metadata": {},
   "outputs": [
    {
     "name": "stdout",
     "output_type": "stream",
     "text": [
      "経過時間:18.3546s\n"
     ]
    }
   ],
   "source": [
    "## compile:\n",
    "model.compile(optimizer=tf.keras.optimizers.SGD(learning_rate=0.01),\n",
    "              loss=tf.keras.losses.BinaryCrossentropy(),\n",
    "              metrics=[tf.keras.metrics.BinaryAccuracy()])\n",
    "t1 = time.time()\n",
    "## train:\n",
    "hist = model.fit(x_train, y_train, \n",
    "                 validation_data=(x_valid, y_valid), \n",
    "                 epochs=200, batch_size=3, verbose=0)\n",
    "t2 = time.time()\n",
    "print(f'経過時間:{t2-t1:.4f}s')\n",
    "\n",
    "## Plotting\n",
    "history = hist.history\n"
   ]
  },
  {
   "cell_type": "code",
   "execution_count": 34,
   "metadata": {},
   "outputs": [
    {
     "data": {
      "image/png": "[encoded data removed]",
      "text/plain": [
       "<Figure size 1152x288 with 3 Axes>"
      ]
     },
     "metadata": {
      "needs_background": "light"
     },
     "output_type": "display_data"
    }
   ],
   "source": [
    "show_history(history)"
   ]
  },
  {
   "cell_type": "markdown",
   "metadata": {},
   "source": [
    "### サブクラス化の例\n",
    "\n",
    "####  $$w(x + \\epsilon) + b$$\n",
    "\n",
    "#### データ点にノイズεを加える"
   ]
  },
  {
   "cell_type": "code",
   "execution_count": 38,
   "metadata": {},
   "outputs": [],
   "source": [
    "# 新しい層を設計したり、既存の層をカスタマイズしたりする場合に便利\n",
    "\n",
    "class NoisyLinear(tf.keras.layers.Layer):\n",
    "    \n",
    "    # 必須\n",
    "    def __init__(self, output_dim, noise_stddev=0.1, **kwargs):  # output_dimを明示的に指定\n",
    "        self.output_dim = output_dim\n",
    "        self.noise_stddev = noise_stddev  # データ点のノイズ（正規分布）\n",
    "        super(NoisyLinear, self).__init__(**kwargs)\n",
    "\n",
    "    def build(self, input_shape):\n",
    "        self.w = self.add_weight(name='weights',\n",
    "                                 shape=(input_shape[1], self.output_dim),\n",
    "                                 initializer='random_normal',  # 正規分布 N(0, 0.05^2) (Glorotの正規分布ではない)\n",
    "                                 trainable=True)  # 訓練可能変数\n",
    "        \n",
    "        self.b = self.add_weight(shape=(self.output_dim,),\n",
    "                                 initializer='zeros',\n",
    "                                 trainable=True)\n",
    "        \n",
    "    # 必須\n",
    "    def call(self, inputs, training=False):\n",
    "        if training:\n",
    "            batch = tf.shape(inputs)[0]\n",
    "            dim = tf.shape(inputs)[1]\n",
    "            noise = tf.random.normal(shape=(batch, dim),\n",
    "                                     mean=0.0,\n",
    "                                     stddev=self.noise_stddev)  # noise ~ N(0.0, noise_stddev^2)\n",
    "\n",
    "            noisy_inputs = tf.add(inputs, noise)  # データ点にノイズを加えている\n",
    "        else:\n",
    "            noisy_inputs = inputs  #ノイズなし\n",
    "        z = tf.matmul(noisy_inputs, self.w) + self.b\n",
    "        return tf.keras.activations.relu(z)\n",
    "    \n",
    "    # Tensorflowモデルの保存と読み込みの機能を使って、このカスタム層を使うモデルを効率よく保存できる\n",
    "    def get_config(self):\n",
    "        config = super(NoisyLinear, self).get_config()\n",
    "        config.update({'output_dim': self.output_dim,\n",
    "                       'noise_stddev': self.noise_stddev})\n",
    "        return config\n",
    "\n"
   ]
  },
  {
   "cell_type": "code",
   "execution_count": 39,
   "metadata": {},
   "outputs": [
    {
     "name": "stdout",
     "output_type": "stream",
     "text": [
      "[[0 0.00821428 0 0]]\n",
      "[[0 0.0108502861 0 0]]\n"
     ]
    }
   ],
   "source": [
    "## testing:\n",
    "\n",
    "tf.random.set_seed(1)\n",
    "\n",
    "noisy_layer = NoisyLinear(4)\n",
    "noisy_layer.build(input_shape=(None, 4))\n",
    "\n",
    "x = tf.zeros(shape=(1, 4))\n",
    "tf.print(noisy_layer(x, training=True))  # activation func: relu\n",
    "\n",
    "## re-building from config:\n",
    "config = noisy_layer.get_config()\n",
    "new_layer = NoisyLinear.from_config(config)\n",
    "tf.print(new_layer(x, training=True))"
   ]
  },
  {
   "cell_type": "code",
   "execution_count": 40,
   "metadata": {},
   "outputs": [
    {
     "name": "stdout",
     "output_type": "stream",
     "text": [
      "Model: \"sequential_5\"\n",
      "_________________________________________________________________\n",
      "Layer (type)                 Output Shape              Param #   \n",
      "=================================================================\n",
      "noisy_linear_1 (NoisyLinear) multiple                  12        \n",
      "_________________________________________________________________\n",
      "dense_21 (Dense)             multiple                  20        \n",
      "_________________________________________________________________\n",
      "dense_22 (Dense)             multiple                  20        \n",
      "_________________________________________________________________\n",
      "dense_23 (Dense)             multiple                  5         \n",
      "=================================================================\n",
      "Total params: 57\n",
      "Trainable params: 57\n",
      "Non-trainable params: 0\n",
      "_________________________________________________________________\n"
     ]
    }
   ],
   "source": [
    "tf.random.set_seed(1)\n",
    "\n",
    "model = tf.keras.Sequential([\n",
    "    NoisyLinear(4, noise_stddev=0.1),  # output_dims = 4\n",
    "    tf.keras.layers.Dense(units=4, activation='relu'),\n",
    "    tf.keras.layers.Dense(units=4, activation='relu'),\n",
    "    tf.keras.layers.Dense(units=1, activation='sigmoid')])\n",
    "\n",
    "model.build(input_shape=(None, 2))\n",
    "model.summary()\n",
    "\n"
   ]
  },
  {
   "cell_type": "code",
   "execution_count": 41,
   "metadata": {},
   "outputs": [
    {
     "name": "stdout",
     "output_type": "stream",
     "text": [
      "経過時間:25.6590s\n"
     ]
    }
   ],
   "source": [
    "## compile:\n",
    "model.compile(optimizer=tf.keras.optimizers.SGD(learning_rate=0.01),\n",
    "              loss=tf.keras.losses.BinaryCrossentropy(),\n",
    "              metrics=[tf.keras.metrics.BinaryAccuracy()])\n",
    "\n",
    "t1 = time.time()\n",
    "## train:\n",
    "hist = model.fit(x_train, y_train, \n",
    "                 validation_data=(x_valid, y_valid), \n",
    "                 epochs=200, batch_size=2, \n",
    "                 verbose=0)\n",
    "t2 = time.time()\n",
    "print(f'経過時間:{t2-t1:.4f}s')\n"
   ]
  },
  {
   "cell_type": "code",
   "execution_count": 36,
   "metadata": {},
   "outputs": [
    {
     "data": {
      "image/png": "[encoded data removed]",
      "text/plain": [
       "<Figure size 1152x288 with 3 Axes>"
      ]
     },
     "metadata": {
      "needs_background": "light"
     },
     "output_type": "display_data"
    }
   ],
   "source": [
    "## Plotting\n",
    "history = hist.history\n",
    "show_history(history)"
   ]
  },
  {
   "cell_type": "markdown",
   "metadata": {},
   "source": [
    "tf.keras.layer.Layerのサブクラスとして新しいカスタム層を定義し、Kerasの標準的な層と同じように使う方法を理解することだった。\n",
    "\n",
    "NoisyLinearは性能の向上に貢献しなかったが、ここでの主な目的はカスタム層を一から記述する方法を理解することにあるので、良しとしよう。"
   ]
  },
  {
   "cell_type": "code",
   "execution_count": null,
   "metadata": {},
   "outputs": [],
   "source": []
  },
  {
   "cell_type": "markdown",
   "metadata": {},
   "source": [
    "### まとめ\n",
    "\n",
    "#### GradientTapeによる勾配の計算\n",
    "#### XOR問題の分類に挑戦\n",
    "##### &emsp;Sequentialクラスで単層ロジスティック回帰\n",
    "##### &emsp;Sequentialクラスで4つのユニットと3つの隠れ層\n",
    "##### &emsp;Fenctional APIで4つのユニットと3つの隠れ層\n",
    "##### &emsp;カスタム層を追加したサブクラス（データ点にノイズあり）を使ってみた"
   ]
  },
  {
   "cell_type": "code",
   "execution_count": 134,
   "metadata": {},
   "outputs": [
    {
     "data": {
      "image/png": "[encoded data removed]",
      "text/plain": [
       "<Figure size 1152x288 with 3 Axes>"
      ]
     },
     "metadata": {
      "needs_background": "light"
     },
     "output_type": "display_data"
    }
   ],
   "source": [
    "# ハイパーパラメータである学習率を０．１にした結果\n",
    "history = hist.history\n",
    "show_history(history)"
   ]
  },
  {
   "cell_type": "code",
   "execution_count": 43,
   "metadata": {},
   "outputs": [],
   "source": [
    "a = tf.constant([1,2,2,2,5,5], shape=[2,3])\n",
    "b = tf.constant([1,2,2,2,4,4], shape=[3,2])\n",
    "\n",
    "c = tf.matmul(a,b)"
   ]
  },
  {
   "cell_type": "code",
   "execution_count": 44,
   "metadata": {},
   "outputs": [
    {
     "data": {
      "text/plain": [
       "<tf.Tensor: shape=(2, 2), dtype=int32, numpy=\n",
       "array([[13, 14],\n",
       "       [32, 34]], dtype=int32)>"
      ]
     },
     "execution_count": 44,
     "metadata": {},
     "output_type": "execute_result"
    }
   ],
   "source": [
    "c"
   ]
  },
  {
   "cell_type": "markdown",
   "metadata": {},
   "source": [
    "遅延変数作成・・・インスタンス化のあとにbuildメソッドを呼び出してモデルの層とパラメータを構築すること\n",
    "\n",
    "XOR分類問題・・・2つのクラス間での非線形の決定境界の補足に関してモデルキャパシティ分析\n",
    "\n",
    "モデルのキャパシティについて・・・モデルが複雑な関数をどれくらいかんたんに近似できるかの目安"
   ]
  },
  {
   "cell_type": "markdown",
   "metadata": {},
   "source": [
    "損失関数の選択・・・分類タスクの損失関数は交差エントロピー、回帰問題では平均二乗誤差\n",
    "\n",
    "最適化アルゴリズムの選択・・・SGDとAdam"
   ]
  },
  {
   "cell_type": "markdown",
   "metadata": {},
   "source": [
    "KL情報量・・・確率論と情報理論における2つの確率分布の差異を測る尺度。\n",
    "\n",
    "https://ja.wikipedia.org/wiki/%E3%82%AB%E3%83%AB%E3%83%90%E3%83%83%E3%82%AF%E3%83%BB%E3%83%A9%E3%82%A4%E3%83%96%E3%83%A9%E3%83%BC%E6%83%85%E5%A0%B1%E9%87%8F"
   ]
  },
  {
   "cell_type": "markdown",
   "metadata": {},
   "source": [
    "交差エントロピー誤差関数とロジスティック回帰\n",
    "https://ja.wikipedia.org/wiki/%E4%BA%A4%E5%B7%AE%E3%82%A8%E3%83%B3%E3%83%88%E3%83%AD%E3%83%94%E3%83%BC"
   ]
  },
  {
   "cell_type": "markdown",
   "metadata": {},
   "source": [
    "エントロピー・・・確率分布の「複雑さ」を示す値\n",
    "\n",
    "https://qiita.com/kento1109/items/10026d96f2634ba36362\n",
    "\n",
    "https://qiita.com/ceptree/items/9a473b5163d5655420e8\n",
    "\n",
    "http://www.orsj.or.jp/archive2/or60-4/or60_4_191.pdf"
   ]
  },
  {
   "cell_type": "code",
   "execution_count": 105,
   "metadata": {},
   "outputs": [
    {
     "data": {
      "text/plain": [
       "8.003291"
      ]
     },
     "execution_count": 105,
     "metadata": {},
     "output_type": "execute_result"
    }
   ],
   "source": [
    "# Example 1: (batch_size = 1, number of samples = 4)\n",
    "y_true = [1, 0]\n",
    "y_pred = [0.51, 2.94]\n",
    "bce = tf.keras.losses.BinaryCrossentropy(from_logits=False)\n",
    "bce(y_true, y_pred).numpy()\n"
   ]
  },
  {
   "cell_type": "code",
   "execution_count": 110,
   "metadata": {},
   "outputs": [
    {
     "data": {
      "text/plain": [
       "0.6733443"
      ]
     },
     "execution_count": 110,
     "metadata": {},
     "output_type": "execute_result"
    }
   ],
   "source": [
    "# Example 1: (batch_size = 1, number of samples = 4)\n",
    "y_true = [1]\n",
    "y_pred = [0.51]\n",
    "bce = tf.keras.losses.BinaryCrossentropy(from_logits=False)\n",
    "bce(y_true, y_pred).numpy()\n"
   ]
  },
  {
   "cell_type": "code",
   "execution_count": 109,
   "metadata": {},
   "outputs": [
    {
     "data": {
      "text/plain": [
       "-0.470313318044875"
      ]
     },
     "execution_count": 109,
     "metadata": {},
     "output_type": "execute_result"
    }
   ],
   "source": [
    "np.log(1 / (1 + np.exp(-0.51)))"
   ]
  },
  {
   "cell_type": "code",
   "execution_count": 111,
   "metadata": {},
   "outputs": [
    {
     "data": {
      "text/plain": [
       "-0.7133498878774648"
      ]
     },
     "execution_count": 111,
     "metadata": {},
     "output_type": "execute_result"
    }
   ],
   "source": [
    "np.log(0.49)"
   ]
  },
  {
   "cell_type": "code",
   "execution_count": 127,
   "metadata": {},
   "outputs": [
    {
     "data": {
      "text/plain": [
       "0.865458"
      ]
     },
     "execution_count": 127,
     "metadata": {},
     "output_type": "execute_result"
    }
   ],
   "source": [
    "# Example 1: (batch_size = 1, number of samples = 4)\n",
    "y_true = [0, 1, 0, 0]\n",
    "y_pred = [-18.6, 0.51, 2.94, -12.8]\n",
    "bce = tf.keras.losses.BinaryCrossentropy(from_logits=True)\n",
    "bce(y_true, y_pred).numpy()\n"
   ]
  },
  {
   "cell_type": "code",
   "execution_count": 128,
   "metadata": {},
   "outputs": [
    {
     "data": {
      "text/plain": [
       "0.23515666"
      ]
     },
     "execution_count": 128,
     "metadata": {},
     "output_type": "execute_result"
    }
   ],
   "source": [
    "# Example 1: (batch_size = 1, number of samples = 4)\n",
    "y_true = [0, 1]\n",
    "y_pred = [-18.6, 0.51]\n",
    "bce = tf.keras.losses.BinaryCrossentropy(from_logits=True)\n",
    "bce(y_true, y_pred).numpy()\n"
   ]
  },
  {
   "cell_type": "code",
   "execution_count": 124,
   "metadata": {},
   "outputs": [
    {
     "data": {
      "text/plain": [
       "0.4703133"
      ]
     },
     "execution_count": 124,
     "metadata": {},
     "output_type": "execute_result"
    }
   ],
   "source": [
    "# Example 1: (batch_size = 1, number of samples = 4)\n",
    "y_true = [1]\n",
    "y_pred = [0.51]\n",
    "bce = tf.keras.losses.BinaryCrossentropy(from_logits=True)\n",
    "bce(y_true, y_pred).numpy()\n"
   ]
  },
  {
   "cell_type": "code",
   "execution_count": 125,
   "metadata": {},
   "outputs": [
    {
     "data": {
      "text/plain": [
       "2.9915159"
      ]
     },
     "execution_count": 125,
     "metadata": {},
     "output_type": "execute_result"
    }
   ],
   "source": [
    "# Example 1: (batch_size = 1, number of samples = 4)\n",
    "y_true = [0]\n",
    "y_pred = [2.94]\n",
    "bce = tf.keras.losses.BinaryCrossentropy(from_logits=True)\n",
    "bce(y_true, y_pred).numpy()\n"
   ]
  }
 ],
 "metadata": {
  "kernelspec": {
   "display_name": "Python 3",
   "language": "python",
   "name": "python3"
  },
  "language_info": {
   "codemirror_mode": {
    "name": "ipython",
    "version": 3
   },
   "file_extension": ".py",
   "mimetype": "text/x-python",
   "name": "python",
   "nbconvert_exporter": "python",
   "pygments_lexer": "ipython3",
   "version": "3.7.4"
  }
 },
 "nbformat": 4,
 "nbformat_minor": 4
}
